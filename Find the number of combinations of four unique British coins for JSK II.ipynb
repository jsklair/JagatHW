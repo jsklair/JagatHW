{
 "cells": [
  {
   "cell_type": "markdown",
   "metadata": {},
   "source": [
    "# Find the number of combinations of four unique British coins for JSK II\n",
    "\n",
    "## 17th January 2020\n",
    "\n",
    "There are eight British coins with the following values (in pence):\n",
    "\n",
    "A. 1\n",
    "B. 2\n",
    "C. 5\n",
    "D. 10\n",
    "E. 20\n",
    "F. 50\n",
    "G. 100\n",
    "H. 200\n",
    "\n",
    "Find the total number of combinations of four coins, where each coin is onlu used once.\n",
    "\n",
    "The values are irrelevant."
   ]
  },
  {
   "cell_type": "code",
   "execution_count": 1,
   "metadata": {},
   "outputs": [
    {
     "name": "stdout",
     "output_type": "stream",
     "text": [
      "There are  70.0  unique combinations of four of the eight British coins.\n"
     ]
    }
   ],
   "source": [
    "#import math library for factorial function\n",
    "import math\n",
    "\n",
    "#setup required variables\n",
    "no_of_coins = 8\n",
    "combination_size = 4\n",
    "unique_combinations = 0\n",
    "\n",
    "#equation to work out combinations as per variables\n",
    "#unique_combinations = no_of_coins! / combination_size! * (no_of_coins - combination_size)!\n",
    "unique_combinations = math.factorial(no_of_coins) /((math.factorial(combination_size))*(math.factorial(no_of_coins-combination_size)))\n",
    "\n",
    "#print output\n",
    "print (\"There are \",unique_combinations,\" unique combinations of four of the eight British coins.\")"
   ]
  },
  {
   "cell_type": "markdown",
   "metadata": {},
   "source": [
    "JSK\n",
    "20200117"
   ]
  }
 ],
 "metadata": {
  "kernelspec": {
   "display_name": "Python 3",
   "language": "python",
   "name": "python3"
  },
  "language_info": {
   "codemirror_mode": {
    "name": "ipython",
    "version": 3
   },
   "file_extension": ".py",
   "mimetype": "text/x-python",
   "name": "python",
   "nbconvert_exporter": "python",
   "pygments_lexer": "ipython3",
   "version": "3.7.3"
  }
 },
 "nbformat": 4,
 "nbformat_minor": 2
}
